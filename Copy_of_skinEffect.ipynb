{
  "cells": [
    {
      "cell_type": "markdown",
      "metadata": {
        "id": "tfiwFXBOAmVC"
      },
      "source": [
        "# Skin effect\n",
        "In the lectures (nugget 13) you looked at AC current in a wire and particularly the skin effect. In the process you saw a full-on (non-examinable) solution. In this worksheet you calculate an approximation for when the skin depth is much less than the radius. This worksheet plots the full on solution allowing you to inspect how well this agrees with the sketches in your approximation.\n",
        "\n",
        "**You need to run all the cells in this section for anything to work.**"
      ]
    },
    {
      "cell_type": "code",
      "execution_count": null,
      "metadata": {
        "id": "SjXqk_2KAmVE"
      },
      "outputs": [],
      "source": [
        "%matplotlib inline\n",
        "from matplotlib import pyplot\n",
        "import numpy as np\n",
        "import ipywidgets\n",
        "\n",
        "from scipy.special import jv as bessel # renamed Modified Bessel function of the first kind of real order. for clarity"
      ]
    },
    {
      "cell_type": "code",
      "execution_count": null,
      "metadata": {
        "id": "js_BJIzDAmVF"
      },
      "outputs": [],
      "source": [
        "def skinDepth(conductivity = 6e7, frequency = 0):\n",
        "    r'''\n",
        "    Calculates the skin depth for a given frequency. sets to infinity if frequency is 0\n",
        "    '''\n",
        "    mu0 = 4 * np.pi * 1e-7\n",
        "    omega = 2 * np.pi * frequency\n",
        "    \n",
        "    if frequency == 0:\n",
        "        delta = np.Inf\n",
        "    else:\n",
        "        delta = np.sqrt(2/(mu0 * conductivity * omega))\n",
        "    return delta\n",
        "\n",
        "def approxJc(x, t, frequency = 0, conductivity  = 6e7):\n",
        "    r''' \n",
        "    Returns the approximate Jc as calculated in the worksheet\n",
        "    '''\n",
        "    delta = skinDepth(conductivity = conductivity, frequency = frequency)\n",
        "    phasefactor = np.exp(- 1j * 2 * np.pi * frequency * t)\n",
        "    \n",
        "    jc =  np.exp(-x / delta) * np.exp( 1j * x / delta)\n",
        "    Jc = np.real(jc * phasefactor)\n",
        "    return Jc\n",
        "\n",
        "def JcFullon(x, t, frequency = 0, conductivity  = 6e7):\n",
        "    r'''\n",
        "    Calculates the exact solution of Jc from the addendum\n",
        "    '''\n",
        "    a = 0.01\n",
        "    #x = np.arange(0,a,0.001) # distance from centre of the wire forced to be 1 (as normalised to a radius of 1)\n",
        "    \n",
        "    r = a - x # In the approximation we work with x but for the full solution we use r\n",
        "    \n",
        "    delta = skinDepth(conductivity = conductivity, frequency = frequency)\n",
        "    phasefactor = np.exp(- 1j * 2 * np.pi * frequency * t)\n",
        "    \n",
        "    j0 = bessel(0, (1 + 1j) * a / delta) # here j0 = jc(x = 0) as in the worksheet)\n",
        "    Jc_norm = bessel(0, (1 + 1j) * r / delta) * phasefactor / j0 \n",
        "    Jc_norm = np.real(Jc_norm)\n",
        "    return Jc_norm\n",
        "\n",
        "def plotJcFullon(t, frequency = 0, conductivity  = 6e7):\n",
        "    r'''\n",
        "    Plots the exact solution of Jc from the addendum versus the approximation\n",
        "    '''\n",
        "    a=0.01\n",
        "    x = np.arange(0,a,a/10000) # distance from centre of the wire \n",
        "    \n",
        "    \n",
        "    fig = pyplot.plot(x/a, approxJc(x,t, frequency = frequency, conductivity = conductivity))\n",
        "    fig = pyplot.plot(x/a, JcFullon(x,t, frequency = frequency, conductivity = conductivity),'--')\n",
        "    # formatting the plot\n",
        "    pyplot.ylim(-1.1,1.1)\n",
        "    pyplot.xlim(0,1)\n",
        "    pyplot.xlabel('$x/a$')\n",
        "    pyplot.ylabel('$J_C(r)/J_0$')  \n",
        "    pyplot.legend(['Approximate solution', 'Full on solution'])\n",
        "    \n",
        "\n",
        "def plotJcApprox(t, frequency = 0, conductivity  = 6e7):\n",
        "    r'''\n",
        "    Plots the approximation of Jc from the worksheet\n",
        "    '''\n",
        "    x = np.arange(0,a,a/10000) # distance from centre of the wire \n",
        "    \n",
        "    \n",
        "    fig = pyplot.plot(x, approxJc(x,t, frequency = frequency, conductivity = conductivity))\n",
        "    # formatting the plot\n",
        "    pyplot.ylim(-1.1,1.1)\n",
        "    pyplot.xlim(0,1)\n",
        "    pyplot.xlabel('$x/a$')\n",
        "    pyplot.ylabel('$J_C(r)/J_0$')  \n",
        "    "
      ]
    },
    {
      "cell_type": "markdown",
      "metadata": {
        "id": "6nBPIsU4AmVH"
      },
      "source": [
        "# Approximation\n",
        "\n",
        "In the worksheet you calculated an approximation for the current density as a function of depth (x). This is plotted in the below function."
      ]
    },
    {
      "cell_type": "code",
      "execution_count": null,
      "metadata": {
        "id": "fyIB6fVJAmVH",
        "outputId": "40df7fb9-fe2c-4b9a-8f5f-f0fdebc021ad",
        "colab": {
          "base_uri": "https://localhost:8080/",
          "height": 484,
          "referenced_widgets": [
            "f855f74b7e414b46a724f18a17b0a8b5",
            "41fa6d9793894c27b9817e67b97bd4b6",
            "1a561db7e8814a7b8fbfaaaea09d7a41",
            "bdd1dfd904c44e3cad0f3124a3348265",
            "e14df46f500e4fdd99034674351a513f",
            "46828c4084884a339b2cf1c2889dc22c",
            "9fc9eaec63ec42cab46f5ef34180c3b3",
            "38c94069fd8d4a7fb23e299d433c8ab2",
            "3d80206db2244763bc8a6a68c392992c",
            "5a55a248a4f54560a4dcb31cc9aee058",
            "fb8c7cda8f204896828c36db0da2a285",
            "ad5db4d0883044e3b98e8571bf52cc1b",
            "c0302695d4154f69a1d350f5b80692d8"
          ]
        }
      },
      "outputs": [
        {
          "output_type": "display_data",
          "data": {
            "text/plain": [
              "interactive(children=(FloatSlider(value=0.0, description='t', max=400.0), FloatSlider(value=0.0, description='…"
            ],
            "application/vnd.jupyter.widget-view+json": {
              "version_major": 2,
              "version_minor": 0,
              "model_id": "f855f74b7e414b46a724f18a17b0a8b5"
            }
          },
          "metadata": {}
        }
      ],
      "source": [
        "ipywidgets.interact(\n",
        "    lambda t, frequency, conductivity: plotJcApprox(t = t, frequency = frequency, conductivity = conductivity),\n",
        "    t=ipywidgets.FloatSlider(min=0, max=400, step=0.1, value=0), #  in seconds \n",
        "    frequency= ipywidgets.FloatSlider(min=0, max=49, step=0.1, value=0.0), # in Hz\n",
        "    conductivity = ipywidgets.FloatSlider(min=1e7, max=1e8, step=1e6, value=6e7), # in Hz\n",
        ");"
      ]
    },
    {
      "cell_type": "markdown",
      "metadata": {
        "id": "S8wEm3BrAmVI"
      },
      "source": [
        "# Comparison to full solution\n",
        "The full on solution uses complex Bessel functions. Working with these is beyond the scope of the course but it is possible to simulate. Below the approximation from the worksheet is overlaid on the full on solution to give you an idea when this approximation breaks down. Note that the scale on the x axis is changed compared to the previous example."
      ]
    },
    {
      "cell_type": "code",
      "execution_count": null,
      "metadata": {
        "id": "mooxl6EcAmVI",
        "outputId": "a83e4c0a-3ed2-4ac5-afae-673238a3fa67",
        "colab": {
          "base_uri": "https://localhost:8080/",
          "height": 378,
          "referenced_widgets": [
            "b610fe8328204cc2bd5f10616944a719",
            "1a049d2ab03543b39d3fde36123b7d03",
            "470195cfb05f4a788d76c218dc2a9608",
            "b15acff9507d4fd599a9e503e5ec4047",
            "e3ed0f14baf54448baab71b47364d84d",
            "9a8fa07358074006a85d5b0ad6c551db",
            "308c313bedd948578ded2b6aeef2c371",
            "5ce0e6e36b7f4aa4ad506fd88c816d52",
            "02316f429fec4ec1b264086763ba2ad3",
            "4a1d3faf78a04a2cb7a954de07b94fb8",
            "1d08e710efd947c182c2349aaa026ca7",
            "b4d3c5816dbb4c609241ebdd5b32e227",
            "03d03dc4aaef443798d82aa36c5e1583"
          ]
        }
      },
      "outputs": [
        {
          "output_type": "display_data",
          "data": {
            "text/plain": [
              "interactive(children=(FloatSlider(value=0.0, description='t', max=50.0), FloatSlider(value=0.0, description='f…"
            ],
            "application/vnd.jupyter.widget-view+json": {
              "version_major": 2,
              "version_minor": 0,
              "model_id": "b610fe8328204cc2bd5f10616944a719"
            }
          },
          "metadata": {}
        }
      ],
      "source": [
        "ipywidgets.interact(\n",
        "    lambda t, frequency, conductivity: plotJcFullon(t = t, frequency = frequency, conductivity = conductivity),\n",
        "    t=ipywidgets.FloatSlider(min=0, max=50, step=0.1, value=0), #  in seconds \n",
        "    frequency= ipywidgets.FloatSlider(min=0, max=4900, step=0.1, value=0.0), # in Hz\n",
        "    conductivity = ipywidgets.FloatSlider(min=1e5, max=1e8, step=1e6, value=6e7), # in Hz\n",
        ");"
      ]
    },
    {
      "cell_type": "markdown",
      "metadata": {
        "id": "906luyJpAmVJ"
      },
      "source": [
        "# Kymograph\n",
        "It can be illustrative to show this function as a kymograph with time on the x axis and distance from the surface on the y axis "
      ]
    },
    {
      "cell_type": "code",
      "execution_count": null,
      "metadata": {
        "id": "_zvaYk3JAmVJ"
      },
      "outputs": [],
      "source": [
        "def plotKymograph(frequency = 1, conductivity  = 6e7):\n",
        "    depth = np.arange(0,0.1,0.01)\n",
        "    time = np.arange(0, 10, 0.01)\n",
        "\n",
        "    time, depth = np.meshgrid(time, depth)\n",
        "    Jc = JcFullon(depth, time, frequency = frequency, conductivity  = conductivity)\n",
        "    fig, axes = pyplot.subplots(figsize = [20,10])\n",
        "    cs = axes.contourf(time, depth, Jc, cmap = 'Spectral')\n",
        "    cbar = fig.colorbar(cs)\n",
        "    axes.set_xlabel('time/s')\n",
        "    axes.set_ylabel('depth in wire/a')"
      ]
    },
    {
      "cell_type": "code",
      "execution_count": null,
      "metadata": {
        "id": "ZHsRDTpDAmVJ",
        "outputId": "dfe560fb-1f21-4368-d465-030a74491efb",
        "colab": {
          "referenced_widgets": [
            "213ded0230b5417199f827869c257c0e"
          ]
        }
      },
      "outputs": [
        {
          "data": {
            "application/vnd.jupyter.widget-view+json": {
              "model_id": "213ded0230b5417199f827869c257c0e",
              "version_major": 2,
              "version_minor": 0
            },
            "text/plain": [
              "interactive(children=(FloatSlider(value=0.0, description='frequency', max=10.0), FloatSlider(value=60000000.0,…"
            ]
          },
          "metadata": {},
          "output_type": "display_data"
        }
      ],
      "source": [
        "ipywidgets.interact(\n",
        "    lambda frequency, conductivity: plotKymograph(frequency = frequency, conductivity = conductivity),\n",
        "    frequency= ipywidgets.FloatSlider(min=0, max=10, step=0.1, value=0.0), # in Hz\n",
        "    conductivity = ipywidgets.FloatSlider(min=1e7, max=1e8, step=1e6, value=6e7), # in Hz\n",
        ");"
      ]
    }
  ],
  "metadata": {
    "kernelspec": {
      "display_name": "Python 3",
      "language": "python",
      "name": "python3"
    },
    "language_info": {
      "codemirror_mode": {
        "name": "ipython",
        "version": 3
      },
      "file_extension": ".py",
      "mimetype": "text/x-python",
      "name": "python",
      "nbconvert_exporter": "python",
      "pygments_lexer": "ipython3",
      "version": "3.7.4"
    },
    "widgets": {
      "application/vnd.jupyter.widget-state+json": {
        "f855f74b7e414b46a724f18a17b0a8b5": {
          "model_module": "@jupyter-widgets/controls",
          "model_name": "VBoxModel",
          "model_module_version": "1.5.0",
          "state": {
            "_dom_classes": [
              "widget-interact"
            ],
            "_model_module": "@jupyter-widgets/controls",
            "_model_module_version": "1.5.0",
            "_model_name": "VBoxModel",
            "_view_count": null,
            "_view_module": "@jupyter-widgets/controls",
            "_view_module_version": "1.5.0",
            "_view_name": "VBoxView",
            "box_style": "",
            "children": [
              "IPY_MODEL_41fa6d9793894c27b9817e67b97bd4b6",
              "IPY_MODEL_1a561db7e8814a7b8fbfaaaea09d7a41",
              "IPY_MODEL_bdd1dfd904c44e3cad0f3124a3348265",
              "IPY_MODEL_e14df46f500e4fdd99034674351a513f"
            ],
            "layout": "IPY_MODEL_46828c4084884a339b2cf1c2889dc22c"
          }
        },
        "41fa6d9793894c27b9817e67b97bd4b6": {
          "model_module": "@jupyter-widgets/controls",
          "model_name": "FloatSliderModel",
          "model_module_version": "1.5.0",
          "state": {
            "_dom_classes": [],
            "_model_module": "@jupyter-widgets/controls",
            "_model_module_version": "1.5.0",
            "_model_name": "FloatSliderModel",
            "_view_count": null,
            "_view_module": "@jupyter-widgets/controls",
            "_view_module_version": "1.5.0",
            "_view_name": "FloatSliderView",
            "continuous_update": true,
            "description": "t",
            "description_tooltip": null,
            "disabled": false,
            "layout": "IPY_MODEL_9fc9eaec63ec42cab46f5ef34180c3b3",
            "max": 400,
            "min": 0,
            "orientation": "horizontal",
            "readout": true,
            "readout_format": ".2f",
            "step": 0.1,
            "style": "IPY_MODEL_38c94069fd8d4a7fb23e299d433c8ab2",
            "value": 0
          }
        },
        "1a561db7e8814a7b8fbfaaaea09d7a41": {
          "model_module": "@jupyter-widgets/controls",
          "model_name": "FloatSliderModel",
          "model_module_version": "1.5.0",
          "state": {
            "_dom_classes": [],
            "_model_module": "@jupyter-widgets/controls",
            "_model_module_version": "1.5.0",
            "_model_name": "FloatSliderModel",
            "_view_count": null,
            "_view_module": "@jupyter-widgets/controls",
            "_view_module_version": "1.5.0",
            "_view_name": "FloatSliderView",
            "continuous_update": true,
            "description": "frequency",
            "description_tooltip": null,
            "disabled": false,
            "layout": "IPY_MODEL_3d80206db2244763bc8a6a68c392992c",
            "max": 49,
            "min": 0,
            "orientation": "horizontal",
            "readout": true,
            "readout_format": ".2f",
            "step": 0.1,
            "style": "IPY_MODEL_5a55a248a4f54560a4dcb31cc9aee058",
            "value": 0
          }
        },
        "bdd1dfd904c44e3cad0f3124a3348265": {
          "model_module": "@jupyter-widgets/controls",
          "model_name": "FloatSliderModel",
          "model_module_version": "1.5.0",
          "state": {
            "_dom_classes": [],
            "_model_module": "@jupyter-widgets/controls",
            "_model_module_version": "1.5.0",
            "_model_name": "FloatSliderModel",
            "_view_count": null,
            "_view_module": "@jupyter-widgets/controls",
            "_view_module_version": "1.5.0",
            "_view_name": "FloatSliderView",
            "continuous_update": true,
            "description": "conductivity",
            "description_tooltip": null,
            "disabled": false,
            "layout": "IPY_MODEL_fb8c7cda8f204896828c36db0da2a285",
            "max": 100000000,
            "min": 10000000,
            "orientation": "horizontal",
            "readout": true,
            "readout_format": ".2f",
            "step": 1000000,
            "style": "IPY_MODEL_ad5db4d0883044e3b98e8571bf52cc1b",
            "value": 60000000
          }
        },
        "e14df46f500e4fdd99034674351a513f": {
          "model_module": "@jupyter-widgets/output",
          "model_name": "OutputModel",
          "model_module_version": "1.0.0",
          "state": {
            "_dom_classes": [],
            "_model_module": "@jupyter-widgets/output",
            "_model_module_version": "1.0.0",
            "_model_name": "OutputModel",
            "_view_count": null,
            "_view_module": "@jupyter-widgets/output",
            "_view_module_version": "1.0.0",
            "_view_name": "OutputView",
            "layout": "IPY_MODEL_c0302695d4154f69a1d350f5b80692d8",
            "msg_id": "",
            "outputs": [
              {
                "output_type": "error",
                "ename": "NameError",
                "evalue": "ignored",
                "traceback": [
                  "\u001b[0;31m---------------------------------------------------------------------------\u001b[0m",
                  "\u001b[0;31mNameError\u001b[0m                                 Traceback (most recent call last)",
                  "\u001b[0;32m/usr/local/lib/python3.8/dist-packages/ipywidgets/widgets/interaction.py\u001b[0m in \u001b[0;36mupdate\u001b[0;34m(self, *args)\u001b[0m\n\u001b[1;32m    255\u001b[0m                     \u001b[0mvalue\u001b[0m \u001b[0;34m=\u001b[0m \u001b[0mwidget\u001b[0m\u001b[0;34m.\u001b[0m\u001b[0mget_interact_value\u001b[0m\u001b[0;34m(\u001b[0m\u001b[0;34m)\u001b[0m\u001b[0;34m\u001b[0m\u001b[0;34m\u001b[0m\u001b[0m\n\u001b[1;32m    256\u001b[0m                     \u001b[0mself\u001b[0m\u001b[0;34m.\u001b[0m\u001b[0mkwargs\u001b[0m\u001b[0;34m[\u001b[0m\u001b[0mwidget\u001b[0m\u001b[0;34m.\u001b[0m\u001b[0m_kwarg\u001b[0m\u001b[0;34m]\u001b[0m \u001b[0;34m=\u001b[0m \u001b[0mvalue\u001b[0m\u001b[0;34m\u001b[0m\u001b[0;34m\u001b[0m\u001b[0m\n\u001b[0;32m--> 257\u001b[0;31m                 \u001b[0mself\u001b[0m\u001b[0;34m.\u001b[0m\u001b[0mresult\u001b[0m \u001b[0;34m=\u001b[0m \u001b[0mself\u001b[0m\u001b[0;34m.\u001b[0m\u001b[0mf\u001b[0m\u001b[0;34m(\u001b[0m\u001b[0;34m**\u001b[0m\u001b[0mself\u001b[0m\u001b[0;34m.\u001b[0m\u001b[0mkwargs\u001b[0m\u001b[0;34m)\u001b[0m\u001b[0;34m\u001b[0m\u001b[0;34m\u001b[0m\u001b[0m\n\u001b[0m\u001b[1;32m    258\u001b[0m                 \u001b[0mshow_inline_matplotlib_plots\u001b[0m\u001b[0;34m(\u001b[0m\u001b[0;34m)\u001b[0m\u001b[0;34m\u001b[0m\u001b[0;34m\u001b[0m\u001b[0m\n\u001b[1;32m    259\u001b[0m                 \u001b[0;32mif\u001b[0m \u001b[0mself\u001b[0m\u001b[0;34m.\u001b[0m\u001b[0mauto_display\u001b[0m \u001b[0;32mand\u001b[0m \u001b[0mself\u001b[0m\u001b[0;34m.\u001b[0m\u001b[0mresult\u001b[0m \u001b[0;32mis\u001b[0m \u001b[0;32mnot\u001b[0m \u001b[0;32mNone\u001b[0m\u001b[0;34m:\u001b[0m\u001b[0;34m\u001b[0m\u001b[0;34m\u001b[0m\u001b[0m\n",
                  "\u001b[0;32m<ipython-input-3-0dbc9cc98017>\u001b[0m in \u001b[0;36m<lambda>\u001b[0;34m(t, frequency, conductivity)\u001b[0m\n\u001b[1;32m      1\u001b[0m ipywidgets.interact(\n\u001b[0;32m----> 2\u001b[0;31m     \u001b[0;32mlambda\u001b[0m \u001b[0mt\u001b[0m\u001b[0;34m,\u001b[0m \u001b[0mfrequency\u001b[0m\u001b[0;34m,\u001b[0m \u001b[0mconductivity\u001b[0m\u001b[0;34m:\u001b[0m \u001b[0mplotJcApprox\u001b[0m\u001b[0;34m(\u001b[0m\u001b[0mt\u001b[0m \u001b[0;34m=\u001b[0m \u001b[0mt\u001b[0m\u001b[0;34m,\u001b[0m \u001b[0mfrequency\u001b[0m \u001b[0;34m=\u001b[0m \u001b[0mfrequency\u001b[0m\u001b[0;34m,\u001b[0m \u001b[0mconductivity\u001b[0m \u001b[0;34m=\u001b[0m \u001b[0mconductivity\u001b[0m\u001b[0;34m)\u001b[0m\u001b[0;34m,\u001b[0m\u001b[0;34m\u001b[0m\u001b[0;34m\u001b[0m\u001b[0m\n\u001b[0m\u001b[1;32m      3\u001b[0m     \u001b[0mt\u001b[0m\u001b[0;34m=\u001b[0m\u001b[0mipywidgets\u001b[0m\u001b[0;34m.\u001b[0m\u001b[0mFloatSlider\u001b[0m\u001b[0;34m(\u001b[0m\u001b[0mmin\u001b[0m\u001b[0;34m=\u001b[0m\u001b[0;36m0\u001b[0m\u001b[0;34m,\u001b[0m \u001b[0mmax\u001b[0m\u001b[0;34m=\u001b[0m\u001b[0;36m400\u001b[0m\u001b[0;34m,\u001b[0m \u001b[0mstep\u001b[0m\u001b[0;34m=\u001b[0m\u001b[0;36m0.1\u001b[0m\u001b[0;34m,\u001b[0m \u001b[0mvalue\u001b[0m\u001b[0;34m=\u001b[0m\u001b[0;36m0\u001b[0m\u001b[0;34m)\u001b[0m\u001b[0;34m,\u001b[0m \u001b[0;31m#  in seconds\u001b[0m\u001b[0;34m\u001b[0m\u001b[0;34m\u001b[0m\u001b[0m\n\u001b[1;32m      4\u001b[0m     \u001b[0mfrequency\u001b[0m\u001b[0;34m=\u001b[0m \u001b[0mipywidgets\u001b[0m\u001b[0;34m.\u001b[0m\u001b[0mFloatSlider\u001b[0m\u001b[0;34m(\u001b[0m\u001b[0mmin\u001b[0m\u001b[0;34m=\u001b[0m\u001b[0;36m0\u001b[0m\u001b[0;34m,\u001b[0m \u001b[0mmax\u001b[0m\u001b[0;34m=\u001b[0m\u001b[0;36m49\u001b[0m\u001b[0;34m,\u001b[0m \u001b[0mstep\u001b[0m\u001b[0;34m=\u001b[0m\u001b[0;36m0.1\u001b[0m\u001b[0;34m,\u001b[0m \u001b[0mvalue\u001b[0m\u001b[0;34m=\u001b[0m\u001b[0;36m0.0\u001b[0m\u001b[0;34m)\u001b[0m\u001b[0;34m,\u001b[0m \u001b[0;31m# in Hz\u001b[0m\u001b[0;34m\u001b[0m\u001b[0;34m\u001b[0m\u001b[0m\n\u001b[1;32m      5\u001b[0m     \u001b[0mconductivity\u001b[0m \u001b[0;34m=\u001b[0m \u001b[0mipywidgets\u001b[0m\u001b[0;34m.\u001b[0m\u001b[0mFloatSlider\u001b[0m\u001b[0;34m(\u001b[0m\u001b[0mmin\u001b[0m\u001b[0;34m=\u001b[0m\u001b[0;36m1e7\u001b[0m\u001b[0;34m,\u001b[0m \u001b[0mmax\u001b[0m\u001b[0;34m=\u001b[0m\u001b[0;36m1e8\u001b[0m\u001b[0;34m,\u001b[0m \u001b[0mstep\u001b[0m\u001b[0;34m=\u001b[0m\u001b[0;36m1e6\u001b[0m\u001b[0;34m,\u001b[0m \u001b[0mvalue\u001b[0m\u001b[0;34m=\u001b[0m\u001b[0;36m6e7\u001b[0m\u001b[0;34m)\u001b[0m\u001b[0;34m,\u001b[0m \u001b[0;31m# in Hz\u001b[0m\u001b[0;34m\u001b[0m\u001b[0;34m\u001b[0m\u001b[0m\n",
                  "\u001b[0;32m<ipython-input-2-babe3993c517>\u001b[0m in \u001b[0;36mplotJcApprox\u001b[0;34m(t, frequency, conductivity)\u001b[0m\n\u001b[1;32m     62\u001b[0m     \u001b[0mPlots\u001b[0m \u001b[0mthe\u001b[0m \u001b[0mapproximation\u001b[0m \u001b[0mof\u001b[0m \u001b[0mJc\u001b[0m \u001b[0;32mfrom\u001b[0m \u001b[0mthe\u001b[0m \u001b[0mworksheet\u001b[0m\u001b[0;34m\u001b[0m\u001b[0;34m\u001b[0m\u001b[0m\n\u001b[1;32m     63\u001b[0m     '''\n\u001b[0;32m---> 64\u001b[0;31m     \u001b[0mx\u001b[0m \u001b[0;34m=\u001b[0m \u001b[0mnp\u001b[0m\u001b[0;34m.\u001b[0m\u001b[0marange\u001b[0m\u001b[0;34m(\u001b[0m\u001b[0;36m0\u001b[0m\u001b[0;34m,\u001b[0m\u001b[0ma\u001b[0m\u001b[0;34m,\u001b[0m\u001b[0ma\u001b[0m\u001b[0;34m/\u001b[0m\u001b[0;36m10000\u001b[0m\u001b[0;34m)\u001b[0m \u001b[0;31m# distance from centre of the wire\u001b[0m\u001b[0;34m\u001b[0m\u001b[0;34m\u001b[0m\u001b[0m\n\u001b[0m\u001b[1;32m     65\u001b[0m \u001b[0;34m\u001b[0m\u001b[0m\n\u001b[1;32m     66\u001b[0m \u001b[0;34m\u001b[0m\u001b[0m\n",
                  "\u001b[0;31mNameError\u001b[0m: name 'a' is not defined"
                ]
              }
            ]
          }
        },
        "46828c4084884a339b2cf1c2889dc22c": {
          "model_module": "@jupyter-widgets/base",
          "model_name": "LayoutModel",
          "model_module_version": "1.2.0",
          "state": {
            "_model_module": "@jupyter-widgets/base",
            "_model_module_version": "1.2.0",
            "_model_name": "LayoutModel",
            "_view_count": null,
            "_view_module": "@jupyter-widgets/base",
            "_view_module_version": "1.2.0",
            "_view_name": "LayoutView",
            "align_content": null,
            "align_items": null,
            "align_self": null,
            "border": null,
            "bottom": null,
            "display": null,
            "flex": null,
            "flex_flow": null,
            "grid_area": null,
            "grid_auto_columns": null,
            "grid_auto_flow": null,
            "grid_auto_rows": null,
            "grid_column": null,
            "grid_gap": null,
            "grid_row": null,
            "grid_template_areas": null,
            "grid_template_columns": null,
            "grid_template_rows": null,
            "height": null,
            "justify_content": null,
            "justify_items": null,
            "left": null,
            "margin": null,
            "max_height": null,
            "max_width": null,
            "min_height": null,
            "min_width": null,
            "object_fit": null,
            "object_position": null,
            "order": null,
            "overflow": null,
            "overflow_x": null,
            "overflow_y": null,
            "padding": null,
            "right": null,
            "top": null,
            "visibility": null,
            "width": null
          }
        },
        "9fc9eaec63ec42cab46f5ef34180c3b3": {
          "model_module": "@jupyter-widgets/base",
          "model_name": "LayoutModel",
          "model_module_version": "1.2.0",
          "state": {
            "_model_module": "@jupyter-widgets/base",
            "_model_module_version": "1.2.0",
            "_model_name": "LayoutModel",
            "_view_count": null,
            "_view_module": "@jupyter-widgets/base",
            "_view_module_version": "1.2.0",
            "_view_name": "LayoutView",
            "align_content": null,
            "align_items": null,
            "align_self": null,
            "border": null,
            "bottom": null,
            "display": null,
            "flex": null,
            "flex_flow": null,
            "grid_area": null,
            "grid_auto_columns": null,
            "grid_auto_flow": null,
            "grid_auto_rows": null,
            "grid_column": null,
            "grid_gap": null,
            "grid_row": null,
            "grid_template_areas": null,
            "grid_template_columns": null,
            "grid_template_rows": null,
            "height": null,
            "justify_content": null,
            "justify_items": null,
            "left": null,
            "margin": null,
            "max_height": null,
            "max_width": null,
            "min_height": null,
            "min_width": null,
            "object_fit": null,
            "object_position": null,
            "order": null,
            "overflow": null,
            "overflow_x": null,
            "overflow_y": null,
            "padding": null,
            "right": null,
            "top": null,
            "visibility": null,
            "width": null
          }
        },
        "38c94069fd8d4a7fb23e299d433c8ab2": {
          "model_module": "@jupyter-widgets/controls",
          "model_name": "SliderStyleModel",
          "model_module_version": "1.5.0",
          "state": {
            "_model_module": "@jupyter-widgets/controls",
            "_model_module_version": "1.5.0",
            "_model_name": "SliderStyleModel",
            "_view_count": null,
            "_view_module": "@jupyter-widgets/base",
            "_view_module_version": "1.2.0",
            "_view_name": "StyleView",
            "description_width": "",
            "handle_color": null
          }
        },
        "3d80206db2244763bc8a6a68c392992c": {
          "model_module": "@jupyter-widgets/base",
          "model_name": "LayoutModel",
          "model_module_version": "1.2.0",
          "state": {
            "_model_module": "@jupyter-widgets/base",
            "_model_module_version": "1.2.0",
            "_model_name": "LayoutModel",
            "_view_count": null,
            "_view_module": "@jupyter-widgets/base",
            "_view_module_version": "1.2.0",
            "_view_name": "LayoutView",
            "align_content": null,
            "align_items": null,
            "align_self": null,
            "border": null,
            "bottom": null,
            "display": null,
            "flex": null,
            "flex_flow": null,
            "grid_area": null,
            "grid_auto_columns": null,
            "grid_auto_flow": null,
            "grid_auto_rows": null,
            "grid_column": null,
            "grid_gap": null,
            "grid_row": null,
            "grid_template_areas": null,
            "grid_template_columns": null,
            "grid_template_rows": null,
            "height": null,
            "justify_content": null,
            "justify_items": null,
            "left": null,
            "margin": null,
            "max_height": null,
            "max_width": null,
            "min_height": null,
            "min_width": null,
            "object_fit": null,
            "object_position": null,
            "order": null,
            "overflow": null,
            "overflow_x": null,
            "overflow_y": null,
            "padding": null,
            "right": null,
            "top": null,
            "visibility": null,
            "width": null
          }
        },
        "5a55a248a4f54560a4dcb31cc9aee058": {
          "model_module": "@jupyter-widgets/controls",
          "model_name": "SliderStyleModel",
          "model_module_version": "1.5.0",
          "state": {
            "_model_module": "@jupyter-widgets/controls",
            "_model_module_version": "1.5.0",
            "_model_name": "SliderStyleModel",
            "_view_count": null,
            "_view_module": "@jupyter-widgets/base",
            "_view_module_version": "1.2.0",
            "_view_name": "StyleView",
            "description_width": "",
            "handle_color": null
          }
        },
        "fb8c7cda8f204896828c36db0da2a285": {
          "model_module": "@jupyter-widgets/base",
          "model_name": "LayoutModel",
          "model_module_version": "1.2.0",
          "state": {
            "_model_module": "@jupyter-widgets/base",
            "_model_module_version": "1.2.0",
            "_model_name": "LayoutModel",
            "_view_count": null,
            "_view_module": "@jupyter-widgets/base",
            "_view_module_version": "1.2.0",
            "_view_name": "LayoutView",
            "align_content": null,
            "align_items": null,
            "align_self": null,
            "border": null,
            "bottom": null,
            "display": null,
            "flex": null,
            "flex_flow": null,
            "grid_area": null,
            "grid_auto_columns": null,
            "grid_auto_flow": null,
            "grid_auto_rows": null,
            "grid_column": null,
            "grid_gap": null,
            "grid_row": null,
            "grid_template_areas": null,
            "grid_template_columns": null,
            "grid_template_rows": null,
            "height": null,
            "justify_content": null,
            "justify_items": null,
            "left": null,
            "margin": null,
            "max_height": null,
            "max_width": null,
            "min_height": null,
            "min_width": null,
            "object_fit": null,
            "object_position": null,
            "order": null,
            "overflow": null,
            "overflow_x": null,
            "overflow_y": null,
            "padding": null,
            "right": null,
            "top": null,
            "visibility": null,
            "width": null
          }
        },
        "ad5db4d0883044e3b98e8571bf52cc1b": {
          "model_module": "@jupyter-widgets/controls",
          "model_name": "SliderStyleModel",
          "model_module_version": "1.5.0",
          "state": {
            "_model_module": "@jupyter-widgets/controls",
            "_model_module_version": "1.5.0",
            "_model_name": "SliderStyleModel",
            "_view_count": null,
            "_view_module": "@jupyter-widgets/base",
            "_view_module_version": "1.2.0",
            "_view_name": "StyleView",
            "description_width": "",
            "handle_color": null
          }
        },
        "c0302695d4154f69a1d350f5b80692d8": {
          "model_module": "@jupyter-widgets/base",
          "model_name": "LayoutModel",
          "model_module_version": "1.2.0",
          "state": {
            "_model_module": "@jupyter-widgets/base",
            "_model_module_version": "1.2.0",
            "_model_name": "LayoutModel",
            "_view_count": null,
            "_view_module": "@jupyter-widgets/base",
            "_view_module_version": "1.2.0",
            "_view_name": "LayoutView",
            "align_content": null,
            "align_items": null,
            "align_self": null,
            "border": null,
            "bottom": null,
            "display": null,
            "flex": null,
            "flex_flow": null,
            "grid_area": null,
            "grid_auto_columns": null,
            "grid_auto_flow": null,
            "grid_auto_rows": null,
            "grid_column": null,
            "grid_gap": null,
            "grid_row": null,
            "grid_template_areas": null,
            "grid_template_columns": null,
            "grid_template_rows": null,
            "height": null,
            "justify_content": null,
            "justify_items": null,
            "left": null,
            "margin": null,
            "max_height": null,
            "max_width": null,
            "min_height": null,
            "min_width": null,
            "object_fit": null,
            "object_position": null,
            "order": null,
            "overflow": null,
            "overflow_x": null,
            "overflow_y": null,
            "padding": null,
            "right": null,
            "top": null,
            "visibility": null,
            "width": null
          }
        },
        "b610fe8328204cc2bd5f10616944a719": {
          "model_module": "@jupyter-widgets/controls",
          "model_name": "VBoxModel",
          "model_module_version": "1.5.0",
          "state": {
            "_dom_classes": [
              "widget-interact"
            ],
            "_model_module": "@jupyter-widgets/controls",
            "_model_module_version": "1.5.0",
            "_model_name": "VBoxModel",
            "_view_count": null,
            "_view_module": "@jupyter-widgets/controls",
            "_view_module_version": "1.5.0",
            "_view_name": "VBoxView",
            "box_style": "",
            "children": [
              "IPY_MODEL_1a049d2ab03543b39d3fde36123b7d03",
              "IPY_MODEL_470195cfb05f4a788d76c218dc2a9608",
              "IPY_MODEL_b15acff9507d4fd599a9e503e5ec4047",
              "IPY_MODEL_e3ed0f14baf54448baab71b47364d84d"
            ],
            "layout": "IPY_MODEL_9a8fa07358074006a85d5b0ad6c551db"
          }
        },
        "1a049d2ab03543b39d3fde36123b7d03": {
          "model_module": "@jupyter-widgets/controls",
          "model_name": "FloatSliderModel",
          "model_module_version": "1.5.0",
          "state": {
            "_dom_classes": [],
            "_model_module": "@jupyter-widgets/controls",
            "_model_module_version": "1.5.0",
            "_model_name": "FloatSliderModel",
            "_view_count": null,
            "_view_module": "@jupyter-widgets/controls",
            "_view_module_version": "1.5.0",
            "_view_name": "FloatSliderView",
            "continuous_update": true,
            "description": "t",
            "description_tooltip": null,
            "disabled": false,
            "layout": "IPY_MODEL_308c313bedd948578ded2b6aeef2c371",
            "max": 50,
            "min": 0,
            "orientation": "horizontal",
            "readout": true,
            "readout_format": ".2f",
            "step": 0.1,
            "style": "IPY_MODEL_5ce0e6e36b7f4aa4ad506fd88c816d52",
            "value": 0
          }
        },
        "470195cfb05f4a788d76c218dc2a9608": {
          "model_module": "@jupyter-widgets/controls",
          "model_name": "FloatSliderModel",
          "model_module_version": "1.5.0",
          "state": {
            "_dom_classes": [],
            "_model_module": "@jupyter-widgets/controls",
            "_model_module_version": "1.5.0",
            "_model_name": "FloatSliderModel",
            "_view_count": null,
            "_view_module": "@jupyter-widgets/controls",
            "_view_module_version": "1.5.0",
            "_view_name": "FloatSliderView",
            "continuous_update": true,
            "description": "frequency",
            "description_tooltip": null,
            "disabled": false,
            "layout": "IPY_MODEL_02316f429fec4ec1b264086763ba2ad3",
            "max": 4900,
            "min": 0,
            "orientation": "horizontal",
            "readout": true,
            "readout_format": ".2f",
            "step": 0.1,
            "style": "IPY_MODEL_4a1d3faf78a04a2cb7a954de07b94fb8",
            "value": 268.5
          }
        },
        "b15acff9507d4fd599a9e503e5ec4047": {
          "model_module": "@jupyter-widgets/controls",
          "model_name": "FloatSliderModel",
          "model_module_version": "1.5.0",
          "state": {
            "_dom_classes": [],
            "_model_module": "@jupyter-widgets/controls",
            "_model_module_version": "1.5.0",
            "_model_name": "FloatSliderModel",
            "_view_count": null,
            "_view_module": "@jupyter-widgets/controls",
            "_view_module_version": "1.5.0",
            "_view_name": "FloatSliderView",
            "continuous_update": true,
            "description": "conductivity",
            "description_tooltip": null,
            "disabled": false,
            "layout": "IPY_MODEL_1d08e710efd947c182c2349aaa026ca7",
            "max": 100000000,
            "min": 100000,
            "orientation": "horizontal",
            "readout": true,
            "readout_format": ".2f",
            "step": 1000000,
            "style": "IPY_MODEL_b4d3c5816dbb4c609241ebdd5b32e227",
            "value": 60000000
          }
        },
        "e3ed0f14baf54448baab71b47364d84d": {
          "model_module": "@jupyter-widgets/output",
          "model_name": "OutputModel",
          "model_module_version": "1.0.0",
          "state": {
            "_dom_classes": [],
            "_model_module": "@jupyter-widgets/output",
            "_model_module_version": "1.0.0",
            "_model_name": "OutputModel",
            "_view_count": null,
            "_view_module": "@jupyter-widgets/output",
            "_view_module_version": "1.0.0",
            "_view_name": "OutputView",
            "layout": "IPY_MODEL_03d03dc4aaef443798d82aa36c5e1583",
            "msg_id": "",
            "outputs": [
              {
                "output_type": "display_data",
                "data": {
                  "text/plain": "<Figure size 432x288 with 1 Axes>",
                  "image/png": "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\n"
                },
                "metadata": {
                  "needs_background": "light"
                }
              }
            ]
          }
        },
        "9a8fa07358074006a85d5b0ad6c551db": {
          "model_module": "@jupyter-widgets/base",
          "model_name": "LayoutModel",
          "model_module_version": "1.2.0",
          "state": {
            "_model_module": "@jupyter-widgets/base",
            "_model_module_version": "1.2.0",
            "_model_name": "LayoutModel",
            "_view_count": null,
            "_view_module": "@jupyter-widgets/base",
            "_view_module_version": "1.2.0",
            "_view_name": "LayoutView",
            "align_content": null,
            "align_items": null,
            "align_self": null,
            "border": null,
            "bottom": null,
            "display": null,
            "flex": null,
            "flex_flow": null,
            "grid_area": null,
            "grid_auto_columns": null,
            "grid_auto_flow": null,
            "grid_auto_rows": null,
            "grid_column": null,
            "grid_gap": null,
            "grid_row": null,
            "grid_template_areas": null,
            "grid_template_columns": null,
            "grid_template_rows": null,
            "height": null,
            "justify_content": null,
            "justify_items": null,
            "left": null,
            "margin": null,
            "max_height": null,
            "max_width": null,
            "min_height": null,
            "min_width": null,
            "object_fit": null,
            "object_position": null,
            "order": null,
            "overflow": null,
            "overflow_x": null,
            "overflow_y": null,
            "padding": null,
            "right": null,
            "top": null,
            "visibility": null,
            "width": null
          }
        },
        "308c313bedd948578ded2b6aeef2c371": {
          "model_module": "@jupyter-widgets/base",
          "model_name": "LayoutModel",
          "model_module_version": "1.2.0",
          "state": {
            "_model_module": "@jupyter-widgets/base",
            "_model_module_version": "1.2.0",
            "_model_name": "LayoutModel",
            "_view_count": null,
            "_view_module": "@jupyter-widgets/base",
            "_view_module_version": "1.2.0",
            "_view_name": "LayoutView",
            "align_content": null,
            "align_items": null,
            "align_self": null,
            "border": null,
            "bottom": null,
            "display": null,
            "flex": null,
            "flex_flow": null,
            "grid_area": null,
            "grid_auto_columns": null,
            "grid_auto_flow": null,
            "grid_auto_rows": null,
            "grid_column": null,
            "grid_gap": null,
            "grid_row": null,
            "grid_template_areas": null,
            "grid_template_columns": null,
            "grid_template_rows": null,
            "height": null,
            "justify_content": null,
            "justify_items": null,
            "left": null,
            "margin": null,
            "max_height": null,
            "max_width": null,
            "min_height": null,
            "min_width": null,
            "object_fit": null,
            "object_position": null,
            "order": null,
            "overflow": null,
            "overflow_x": null,
            "overflow_y": null,
            "padding": null,
            "right": null,
            "top": null,
            "visibility": null,
            "width": null
          }
        },
        "5ce0e6e36b7f4aa4ad506fd88c816d52": {
          "model_module": "@jupyter-widgets/controls",
          "model_name": "SliderStyleModel",
          "model_module_version": "1.5.0",
          "state": {
            "_model_module": "@jupyter-widgets/controls",
            "_model_module_version": "1.5.0",
            "_model_name": "SliderStyleModel",
            "_view_count": null,
            "_view_module": "@jupyter-widgets/base",
            "_view_module_version": "1.2.0",
            "_view_name": "StyleView",
            "description_width": "",
            "handle_color": null
          }
        },
        "02316f429fec4ec1b264086763ba2ad3": {
          "model_module": "@jupyter-widgets/base",
          "model_name": "LayoutModel",
          "model_module_version": "1.2.0",
          "state": {
            "_model_module": "@jupyter-widgets/base",
            "_model_module_version": "1.2.0",
            "_model_name": "LayoutModel",
            "_view_count": null,
            "_view_module": "@jupyter-widgets/base",
            "_view_module_version": "1.2.0",
            "_view_name": "LayoutView",
            "align_content": null,
            "align_items": null,
            "align_self": null,
            "border": null,
            "bottom": null,
            "display": null,
            "flex": null,
            "flex_flow": null,
            "grid_area": null,
            "grid_auto_columns": null,
            "grid_auto_flow": null,
            "grid_auto_rows": null,
            "grid_column": null,
            "grid_gap": null,
            "grid_row": null,
            "grid_template_areas": null,
            "grid_template_columns": null,
            "grid_template_rows": null,
            "height": null,
            "justify_content": null,
            "justify_items": null,
            "left": null,
            "margin": null,
            "max_height": null,
            "max_width": null,
            "min_height": null,
            "min_width": null,
            "object_fit": null,
            "object_position": null,
            "order": null,
            "overflow": null,
            "overflow_x": null,
            "overflow_y": null,
            "padding": null,
            "right": null,
            "top": null,
            "visibility": null,
            "width": null
          }
        },
        "4a1d3faf78a04a2cb7a954de07b94fb8": {
          "model_module": "@jupyter-widgets/controls",
          "model_name": "SliderStyleModel",
          "model_module_version": "1.5.0",
          "state": {
            "_model_module": "@jupyter-widgets/controls",
            "_model_module_version": "1.5.0",
            "_model_name": "SliderStyleModel",
            "_view_count": null,
            "_view_module": "@jupyter-widgets/base",
            "_view_module_version": "1.2.0",
            "_view_name": "StyleView",
            "description_width": "",
            "handle_color": null
          }
        },
        "1d08e710efd947c182c2349aaa026ca7": {
          "model_module": "@jupyter-widgets/base",
          "model_name": "LayoutModel",
          "model_module_version": "1.2.0",
          "state": {
            "_model_module": "@jupyter-widgets/base",
            "_model_module_version": "1.2.0",
            "_model_name": "LayoutModel",
            "_view_count": null,
            "_view_module": "@jupyter-widgets/base",
            "_view_module_version": "1.2.0",
            "_view_name": "LayoutView",
            "align_content": null,
            "align_items": null,
            "align_self": null,
            "border": null,
            "bottom": null,
            "display": null,
            "flex": null,
            "flex_flow": null,
            "grid_area": null,
            "grid_auto_columns": null,
            "grid_auto_flow": null,
            "grid_auto_rows": null,
            "grid_column": null,
            "grid_gap": null,
            "grid_row": null,
            "grid_template_areas": null,
            "grid_template_columns": null,
            "grid_template_rows": null,
            "height": null,
            "justify_content": null,
            "justify_items": null,
            "left": null,
            "margin": null,
            "max_height": null,
            "max_width": null,
            "min_height": null,
            "min_width": null,
            "object_fit": null,
            "object_position": null,
            "order": null,
            "overflow": null,
            "overflow_x": null,
            "overflow_y": null,
            "padding": null,
            "right": null,
            "top": null,
            "visibility": null,
            "width": null
          }
        },
        "b4d3c5816dbb4c609241ebdd5b32e227": {
          "model_module": "@jupyter-widgets/controls",
          "model_name": "SliderStyleModel",
          "model_module_version": "1.5.0",
          "state": {
            "_model_module": "@jupyter-widgets/controls",
            "_model_module_version": "1.5.0",
            "_model_name": "SliderStyleModel",
            "_view_count": null,
            "_view_module": "@jupyter-widgets/base",
            "_view_module_version": "1.2.0",
            "_view_name": "StyleView",
            "description_width": "",
            "handle_color": null
          }
        },
        "03d03dc4aaef443798d82aa36c5e1583": {
          "model_module": "@jupyter-widgets/base",
          "model_name": "LayoutModel",
          "model_module_version": "1.2.0",
          "state": {
            "_model_module": "@jupyter-widgets/base",
            "_model_module_version": "1.2.0",
            "_model_name": "LayoutModel",
            "_view_count": null,
            "_view_module": "@jupyter-widgets/base",
            "_view_module_version": "1.2.0",
            "_view_name": "LayoutView",
            "align_content": null,
            "align_items": null,
            "align_self": null,
            "border": null,
            "bottom": null,
            "display": null,
            "flex": null,
            "flex_flow": null,
            "grid_area": null,
            "grid_auto_columns": null,
            "grid_auto_flow": null,
            "grid_auto_rows": null,
            "grid_column": null,
            "grid_gap": null,
            "grid_row": null,
            "grid_template_areas": null,
            "grid_template_columns": null,
            "grid_template_rows": null,
            "height": null,
            "justify_content": null,
            "justify_items": null,
            "left": null,
            "margin": null,
            "max_height": null,
            "max_width": null,
            "min_height": null,
            "min_width": null,
            "object_fit": null,
            "object_position": null,
            "order": null,
            "overflow": null,
            "overflow_x": null,
            "overflow_y": null,
            "padding": null,
            "right": null,
            "top": null,
            "visibility": null,
            "width": null
          }
        }
      }
    },
    "colab": {
      "provenance": []
    }
  },
  "nbformat": 4,
  "nbformat_minor": 0
}